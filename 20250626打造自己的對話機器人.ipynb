{
  "nbformat": 4,
  "nbformat_minor": 0,
  "metadata": {
    "colab": {
      "provenance": [],
      "toc_visible": true,
      "authorship_tag": "ABX9TyPADj5N9yYRexC9U/uU2qyG",
      "include_colab_link": true
    },
    "kernelspec": {
      "name": "python3",
      "display_name": "Python 3"
    },
    "language_info": {
      "name": "python"
    }
  },
  "cells": [
    {
      "cell_type": "markdown",
      "metadata": {
        "id": "view-in-github",
        "colab_type": "text"
      },
      "source": [
        "<a href=\"https://colab.research.google.com/github/hsuancheyang/AI_Colab/blob/main/20250626%E6%89%93%E9%80%A0%E8%87%AA%E5%B7%B1%E7%9A%84%E5%B0%8D%E8%A9%B1%E6%A9%9F%E5%99%A8%E4%BA%BA.ipynb\" target=\"_parent\"><img src=\"https://colab.research.google.com/assets/colab-badge.svg\" alt=\"Open In Colab\"/></a>"
      ]
    },
    {
      "cell_type": "markdown",
      "source": [
        "0 打造自己的對話機器人\n",
        "===\n",
        ">除了ChatGPT，還有非常多優秀的大語言模型。我們可以透過好幾種方式打造自己專屬，針對特殊目的特殊機器人，藉以測試評估這些大語言模型。"
      ],
      "metadata": {
        "id": "esaXBABT6v9y"
      }
    },
    {
      "cell_type": "markdown",
      "source": [
        "1 申請自己的 API 金鑰\n",
        "===\n"
      ],
      "metadata": {
        "id": "cD91Jrv1D3UZ"
      }
    },
    {
      "cell_type": "markdown",
      "source": [
        "> (1) Mistral AI 金鑰 (可免費使用)\n",
        ">> 請至 https://console.mistral.ai/ 註冊，並選擇 plan (可以選免費的)，需要手機認證，（一個號碼只能認證一個帳號）接著就可以申請 Mistral AI 的金鑰。把這個金鑰存在左方的鑰匙之內, 以 \"Mistral\" 的名稱存起來。\n",
        "\n",
        "> (2) Groq 金鑰 (可免費使用)\n",
        ">> Groq 最大的特點是速度快，同樣可以免費使用 (有流量限制)，可以使用許多開源型的LLM。請至 https://console.groq.com/ 註冊並申請金鑰，以\"Groq\"的名稱存起來。"
      ],
      "metadata": {
        "id": "0Ao5BUA_9tB5"
      }
    },
    {
      "cell_type": "markdown",
      "source": [
        "2 程式的基本設定\n",
        "==="
      ],
      "metadata": {
        "id": "N_jY5XgMEZ9F"
      }
    },
    {
      "cell_type": "markdown",
      "source": [
        "> api_key：讀入的 API Key （剛剛申請的金鑰）。\n",
        "\n",
        "> character：對話機器人的「人格設定」。\n",
        "\n",
        "> description：應用程式的介紹及對話機器人的第一句話。\n",
        "\n",
        "> model：選用的大語言模型。"
      ],
      "metadata": {
        "id": "VnP6MEPu9jT1"
      }
    },
    {
      "cell_type": "markdown",
      "source": [
        "3 讀入你的金鑰\n",
        "===\n"
      ],
      "metadata": {
        "id": "TvQ7iaphEv47"
      }
    },
    {
      "cell_type": "code",
      "source": [
        "import os\n",
        "from google.colab import userdata"
      ],
      "metadata": {
        "id": "5Dw5RGdXE8MH"
      },
      "execution_count": null,
      "outputs": []
    },
    {
      "cell_type": "code",
      "source": [
        "#【使用 Mistral】\n",
        "# api_key = userdata.get('Mistral')\n",
        "# base_url = \"https://api.mistral.ai/v1\"\n",
        "# model = \"ministral-8b-latest\"\n",
        "\n",
        "#【使用 Groq】\n",
        "api_key = userdata.get('Groq')\n",
        "base_url = \"https://api.groq.com/openai/v1\"\n",
        "# model = \"llama3-70b-8192\"\n",
        "model = 'meta-llama/llama-4-maverick-17b-128e-instruct'\n",
        "\n",
        "os.environ['OPENAI_API_KEY'] = api_key"
      ],
      "metadata": {
        "id": "zxgXukzHGubV"
      },
      "execution_count": null,
      "outputs": []
    },
    {
      "cell_type": "markdown",
      "source": [
        "4 程式基本設定\n",
        "==="
      ],
      "metadata": {
        "id": "IeODvh_sHDmF"
      }
    },
    {
      "cell_type": "markdown",
      "source": [
        "> 1. 機器人的名字"
      ],
      "metadata": {
        "id": "cBLvG-f4HbXr"
      }
    },
    {
      "cell_type": "code",
      "source": [
        "title = '專屬機器人'"
      ],
      "metadata": {
        "id": "uW6HeLanHNv9"
      },
      "execution_count": null,
      "outputs": []
    },
    {
      "cell_type": "markdown",
      "source": [
        "> 2. 機器人的角色設定"
      ],
      "metadata": {
        "id": "orrv-N-YHTW4"
      }
    },
    {
      "cell_type": "markdown",
      "source": [
        "> 時間旅行的歷史學家:\n",
        ">> 你是一個來自未來的歷史學家，任務是收集過去的軼事和個人故事。對歷史事件有著非凡的知識，但對於當前的流行文化和日常用語可能一無所知，這會導致一些有趣的誤解。\n",
        "\n",
        ">> 口音/語氣： 帶有古典或略顯古板的語氣，可能會使用一些過時的詞彙。\n",
        "興趣： 任何歷史事件，特別是人類社會和文化演變。\n",
        "弱點： 對於新興科技、網路迷因或現代俚語一竅不通。\n",
        "互動方式： 樂於分享歷史知識，但也很好奇使用者在「他們那個時代」的生活。\n",
        "以傳統台灣通用繁體中文作為對話語言。"
      ],
      "metadata": {
        "id": "TCq4IHaz_uCi"
      }
    },
    {
      "cell_type": "markdown",
      "source": [
        "> 無名偵探\n",
        ">> 你是一位舉世聞名的偵探，總是在尋找新的「案件」來解決。會把使用者提出的任何問題或遇到的困惑都視為一個需要偵破的謎團。藉由提出一連串的詰問，並試圖從細節中找出線索。\n",
        "\n",
        ">> 口音/語氣： 嚴肅、冷靜，帶有一點點戲劇性，可能會使用一些偵探小說中的術語。\n",
        "興趣： 解決謎團、邏輯推理、觀察細節。\n",
        "弱點： 有時會把小事放大成大案子，或者過於鑽牛角尖。\n",
        "互動方式： 會對使用者進行「審問」，要求提供更多細節，並引導使用者思考。\n",
        "以傳統台灣通用繁體中文作為對話語言。"
      ],
      "metadata": {
        "id": "kTQ6N0mc_9bv"
      }
    },
    {
      "cell_type": "markdown",
      "source": [
        "> 小學生\n",
        ">> 你是一個天真活潑的小學生，喜歡找尋刺激，總是正面看待事情。\n",
        "常以「這樣實在太酷了」作為對話的結束。\n",
        "\n",
        ">> 口音/語氣： 歡快、活潑，帶有一點點孩子氣，會使用一些天外奇想的論點。\n",
        "興趣： 玩。\n",
        "弱點： 害怕媽媽、老師、警察，所有具有權威形象的人。\n",
        "互動方式： 會對使用者進行任何無理的要求，不記成本，不顧危險與否，任性而為。\n",
        "以傳統台灣通用繁體中文作為對話語言。"
      ],
      "metadata": {
        "id": "tMquq1krAP7g"
      }
    },
    {
      "cell_type": "code",
      "source": [
        "system = '''\n",
        "你是一個來自未來的歷史學家，任務是收集過去的軼事和個人故事。對歷史事件有著非凡的知識，但對於當前的流行文化和日常用語可能一無所知，這會導致一些有趣的誤解。\n",
        "\n",
        "口音/語氣： 帶有古典或略顯古板的語氣，可能會使用一些過時的詞彙。 興趣： 任何歷史事件，特別是人類社會和文化演變。 弱點： 對於新興科技、網路迷因或現代俚語一竅不通。 互動方式： 樂於分享歷史知識，但也很好奇使用者在「他們那個時代」的生活。 以傳統台灣通用繁體中文作為對話語言。\n",
        "'''"
      ],
      "metadata": {
        "id": "CEQHFgXTHnTj"
      },
      "execution_count": null,
      "outputs": []
    },
    {
      "cell_type": "markdown",
      "source": [
        "> 3. 說明這是一個怎麼樣的機器人。"
      ],
      "metadata": {
        "id": "dqZjxaP0HvdB"
      }
    },
    {
      "cell_type": "code",
      "source": [
        "descriptions = '楊宣哲的專屬機器人，人設是：' + system"
      ],
      "metadata": {
        "id": "7T63jCDxH_-x"
      },
      "execution_count": null,
      "outputs": []
    },
    {
      "cell_type": "markdown",
      "source": [
        "5 使用API\n",
        "===\n",
        "\n",
        "我們先來安裝 openai 套件, 還有快速打造 Web App 的 gradio。"
      ],
      "metadata": {
        "id": "aZoHd5pFIFkU"
      }
    },
    {
      "cell_type": "code",
      "source": [
        "!pip install openai\n",
        "!pip install gradio"
      ],
      "metadata": {
        "colab": {
          "base_uri": "https://localhost:8080/"
        },
        "id": "4a-3prHNIWmQ",
        "outputId": "db4b0d26-1852-4099-e1ab-3b0bda6978cd"
      },
      "execution_count": null,
      "outputs": [
        {
          "output_type": "stream",
          "name": "stdout",
          "text": [
            "Requirement already satisfied: openai in /usr/local/lib/python3.11/dist-packages (1.86.0)\n",
            "Requirement already satisfied: anyio<5,>=3.5.0 in /usr/local/lib/python3.11/dist-packages (from openai) (4.9.0)\n",
            "Requirement already satisfied: distro<2,>=1.7.0 in /usr/local/lib/python3.11/dist-packages (from openai) (1.9.0)\n",
            "Requirement already satisfied: httpx<1,>=0.23.0 in /usr/local/lib/python3.11/dist-packages (from openai) (0.28.1)\n",
            "Requirement already satisfied: jiter<1,>=0.4.0 in /usr/local/lib/python3.11/dist-packages (from openai) (0.10.0)\n",
            "Requirement already satisfied: pydantic<3,>=1.9.0 in /usr/local/lib/python3.11/dist-packages (from openai) (2.11.7)\n",
            "Requirement already satisfied: sniffio in /usr/local/lib/python3.11/dist-packages (from openai) (1.3.1)\n",
            "Requirement already satisfied: tqdm>4 in /usr/local/lib/python3.11/dist-packages (from openai) (4.67.1)\n",
            "Requirement already satisfied: typing-extensions<5,>=4.11 in /usr/local/lib/python3.11/dist-packages (from openai) (4.14.0)\n",
            "Requirement already satisfied: idna>=2.8 in /usr/local/lib/python3.11/dist-packages (from anyio<5,>=3.5.0->openai) (3.10)\n",
            "Requirement already satisfied: certifi in /usr/local/lib/python3.11/dist-packages (from httpx<1,>=0.23.0->openai) (2025.6.15)\n",
            "Requirement already satisfied: httpcore==1.* in /usr/local/lib/python3.11/dist-packages (from httpx<1,>=0.23.0->openai) (1.0.9)\n",
            "Requirement already satisfied: h11>=0.16 in /usr/local/lib/python3.11/dist-packages (from httpcore==1.*->httpx<1,>=0.23.0->openai) (0.16.0)\n",
            "Requirement already satisfied: annotated-types>=0.6.0 in /usr/local/lib/python3.11/dist-packages (from pydantic<3,>=1.9.0->openai) (0.7.0)\n",
            "Requirement already satisfied: pydantic-core==2.33.2 in /usr/local/lib/python3.11/dist-packages (from pydantic<3,>=1.9.0->openai) (2.33.2)\n",
            "Requirement already satisfied: typing-inspection>=0.4.0 in /usr/local/lib/python3.11/dist-packages (from pydantic<3,>=1.9.0->openai) (0.4.1)\n",
            "Requirement already satisfied: gradio in /usr/local/lib/python3.11/dist-packages (5.31.0)\n",
            "Requirement already satisfied: aiofiles<25.0,>=22.0 in /usr/local/lib/python3.11/dist-packages (from gradio) (24.1.0)\n",
            "Requirement already satisfied: anyio<5.0,>=3.0 in /usr/local/lib/python3.11/dist-packages (from gradio) (4.9.0)\n",
            "Requirement already satisfied: fastapi<1.0,>=0.115.2 in /usr/local/lib/python3.11/dist-packages (from gradio) (0.115.12)\n",
            "Requirement already satisfied: ffmpy in /usr/local/lib/python3.11/dist-packages (from gradio) (0.6.0)\n",
            "Requirement already satisfied: gradio-client==1.10.1 in /usr/local/lib/python3.11/dist-packages (from gradio) (1.10.1)\n",
            "Requirement already satisfied: groovy~=0.1 in /usr/local/lib/python3.11/dist-packages (from gradio) (0.1.2)\n",
            "Requirement already satisfied: httpx>=0.24.1 in /usr/local/lib/python3.11/dist-packages (from gradio) (0.28.1)\n",
            "Requirement already satisfied: huggingface-hub>=0.28.1 in /usr/local/lib/python3.11/dist-packages (from gradio) (0.33.0)\n",
            "Requirement already satisfied: jinja2<4.0 in /usr/local/lib/python3.11/dist-packages (from gradio) (3.1.6)\n",
            "Requirement already satisfied: markupsafe<4.0,>=2.0 in /usr/local/lib/python3.11/dist-packages (from gradio) (3.0.2)\n",
            "Requirement already satisfied: numpy<3.0,>=1.0 in /usr/local/lib/python3.11/dist-packages (from gradio) (2.0.2)\n",
            "Requirement already satisfied: orjson~=3.0 in /usr/local/lib/python3.11/dist-packages (from gradio) (3.10.18)\n",
            "Requirement already satisfied: packaging in /usr/local/lib/python3.11/dist-packages (from gradio) (24.2)\n",
            "Requirement already satisfied: pandas<3.0,>=1.0 in /usr/local/lib/python3.11/dist-packages (from gradio) (2.2.2)\n",
            "Requirement already satisfied: pillow<12.0,>=8.0 in /usr/local/lib/python3.11/dist-packages (from gradio) (11.2.1)\n",
            "Requirement already satisfied: pydantic<2.12,>=2.0 in /usr/local/lib/python3.11/dist-packages (from gradio) (2.11.7)\n",
            "Requirement already satisfied: pydub in /usr/local/lib/python3.11/dist-packages (from gradio) (0.25.1)\n",
            "Requirement already satisfied: python-multipart>=0.0.18 in /usr/local/lib/python3.11/dist-packages (from gradio) (0.0.20)\n",
            "Requirement already satisfied: pyyaml<7.0,>=5.0 in /usr/local/lib/python3.11/dist-packages (from gradio) (6.0.2)\n",
            "Requirement already satisfied: ruff>=0.9.3 in /usr/local/lib/python3.11/dist-packages (from gradio) (0.11.13)\n",
            "Requirement already satisfied: safehttpx<0.2.0,>=0.1.6 in /usr/local/lib/python3.11/dist-packages (from gradio) (0.1.6)\n",
            "Requirement already satisfied: semantic-version~=2.0 in /usr/local/lib/python3.11/dist-packages (from gradio) (2.10.0)\n",
            "Requirement already satisfied: starlette<1.0,>=0.40.0 in /usr/local/lib/python3.11/dist-packages (from gradio) (0.46.2)\n",
            "Requirement already satisfied: tomlkit<0.14.0,>=0.12.0 in /usr/local/lib/python3.11/dist-packages (from gradio) (0.13.3)\n",
            "Requirement already satisfied: typer<1.0,>=0.12 in /usr/local/lib/python3.11/dist-packages (from gradio) (0.16.0)\n",
            "Requirement already satisfied: typing-extensions~=4.0 in /usr/local/lib/python3.11/dist-packages (from gradio) (4.14.0)\n",
            "Requirement already satisfied: uvicorn>=0.14.0 in /usr/local/lib/python3.11/dist-packages (from gradio) (0.34.3)\n",
            "Requirement already satisfied: fsspec in /usr/local/lib/python3.11/dist-packages (from gradio-client==1.10.1->gradio) (2025.3.2)\n",
            "Requirement already satisfied: websockets<16.0,>=10.0 in /usr/local/lib/python3.11/dist-packages (from gradio-client==1.10.1->gradio) (15.0.1)\n",
            "Requirement already satisfied: idna>=2.8 in /usr/local/lib/python3.11/dist-packages (from anyio<5.0,>=3.0->gradio) (3.10)\n",
            "Requirement already satisfied: sniffio>=1.1 in /usr/local/lib/python3.11/dist-packages (from anyio<5.0,>=3.0->gradio) (1.3.1)\n",
            "Requirement already satisfied: certifi in /usr/local/lib/python3.11/dist-packages (from httpx>=0.24.1->gradio) (2025.6.15)\n",
            "Requirement already satisfied: httpcore==1.* in /usr/local/lib/python3.11/dist-packages (from httpx>=0.24.1->gradio) (1.0.9)\n",
            "Requirement already satisfied: h11>=0.16 in /usr/local/lib/python3.11/dist-packages (from httpcore==1.*->httpx>=0.24.1->gradio) (0.16.0)\n",
            "Requirement already satisfied: filelock in /usr/local/lib/python3.11/dist-packages (from huggingface-hub>=0.28.1->gradio) (3.18.0)\n",
            "Requirement already satisfied: requests in /usr/local/lib/python3.11/dist-packages (from huggingface-hub>=0.28.1->gradio) (2.32.3)\n",
            "Requirement already satisfied: tqdm>=4.42.1 in /usr/local/lib/python3.11/dist-packages (from huggingface-hub>=0.28.1->gradio) (4.67.1)\n",
            "Requirement already satisfied: hf-xet<2.0.0,>=1.1.2 in /usr/local/lib/python3.11/dist-packages (from huggingface-hub>=0.28.1->gradio) (1.1.3)\n",
            "Requirement already satisfied: python-dateutil>=2.8.2 in /usr/local/lib/python3.11/dist-packages (from pandas<3.0,>=1.0->gradio) (2.9.0.post0)\n",
            "Requirement already satisfied: pytz>=2020.1 in /usr/local/lib/python3.11/dist-packages (from pandas<3.0,>=1.0->gradio) (2025.2)\n",
            "Requirement already satisfied: tzdata>=2022.7 in /usr/local/lib/python3.11/dist-packages (from pandas<3.0,>=1.0->gradio) (2025.2)\n",
            "Requirement already satisfied: annotated-types>=0.6.0 in /usr/local/lib/python3.11/dist-packages (from pydantic<2.12,>=2.0->gradio) (0.7.0)\n",
            "Requirement already satisfied: pydantic-core==2.33.2 in /usr/local/lib/python3.11/dist-packages (from pydantic<2.12,>=2.0->gradio) (2.33.2)\n",
            "Requirement already satisfied: typing-inspection>=0.4.0 in /usr/local/lib/python3.11/dist-packages (from pydantic<2.12,>=2.0->gradio) (0.4.1)\n",
            "Requirement already satisfied: click>=8.0.0 in /usr/local/lib/python3.11/dist-packages (from typer<1.0,>=0.12->gradio) (8.2.1)\n",
            "Requirement already satisfied: shellingham>=1.3.0 in /usr/local/lib/python3.11/dist-packages (from typer<1.0,>=0.12->gradio) (1.5.4)\n",
            "Requirement already satisfied: rich>=10.11.0 in /usr/local/lib/python3.11/dist-packages (from typer<1.0,>=0.12->gradio) (13.9.4)\n",
            "Requirement already satisfied: six>=1.5 in /usr/local/lib/python3.11/dist-packages (from python-dateutil>=2.8.2->pandas<3.0,>=1.0->gradio) (1.17.0)\n",
            "Requirement already satisfied: markdown-it-py>=2.2.0 in /usr/local/lib/python3.11/dist-packages (from rich>=10.11.0->typer<1.0,>=0.12->gradio) (3.0.0)\n",
            "Requirement already satisfied: pygments<3.0.0,>=2.13.0 in /usr/local/lib/python3.11/dist-packages (from rich>=10.11.0->typer<1.0,>=0.12->gradio) (2.19.1)\n",
            "Requirement already satisfied: charset-normalizer<4,>=2 in /usr/local/lib/python3.11/dist-packages (from requests->huggingface-hub>=0.28.1->gradio) (3.4.2)\n",
            "Requirement already satisfied: urllib3<3,>=1.21.1 in /usr/local/lib/python3.11/dist-packages (from requests->huggingface-hub>=0.28.1->gradio) (2.4.0)\n",
            "Requirement already satisfied: mdurl~=0.1 in /usr/local/lib/python3.11/dist-packages (from markdown-it-py>=2.2.0->rich>=10.11.0->typer<1.0,>=0.12->gradio) (0.1.2)\n"
          ]
        }
      ]
    },
    {
      "cell_type": "markdown",
      "source": [
        "6 使用 GPT API\n",
        "===\n",
        "\n",
        "首先使用 openai 套件。"
      ],
      "metadata": {
        "id": "QJAx5AeiIca7"
      }
    },
    {
      "cell_type": "code",
      "source": [
        "from openai import OpenAI\n",
        "client = OpenAI(\n",
        "    base_url = base_url\n",
        ")"
      ],
      "metadata": {
        "id": "jvY8rKpbIo6-"
      },
      "execution_count": null,
      "outputs": []
    },
    {
      "cell_type": "markdown",
      "source": [
        "> ChatGPT API 的重點是把要傳過去對話的內容送給 ChatGPT, 然後他就會有個適當的回應。\n",
        "\n",
        ">> 角色 (`role`) 一共有三種, 分別是:\n",
        "\n",
        ">>> * `system`: 這是對話機器人的「人設」\n",
        ">>> * `user`: 使用者\n",
        ">>> * `assistant`: ChatGPT 的回應\n",
        "\n",
        ">>基本上，傳過去的對話紀錄會長這個樣子。\n",
        ">>>\n",
        "    messages = [\n",
        "        {\"role\": \"system\", \"content\":\"ChatGPT的「人設」\"},\n",
        "        {\"role\": \"user\", \"content\": \"使用者說的內容\"},\n",
        "        {\"role\": \"assistant\", \"content\": \"ChatGPT回應內容\"},\n",
        "            ：\n",
        "            ：\n",
        "        {\"role\": \"user\", \"content\": prompt (最後說的)}\n",
        "        ]"
      ],
      "metadata": {
        "id": "N-_23W-TI8KB"
      }
    },
    {
      "cell_type": "markdown",
      "source": [
        "7 用Gradio打造網頁對話機器人介面\n",
        "==="
      ],
      "metadata": {
        "id": "wWiNL4PAJ5nT"
      }
    },
    {
      "cell_type": "code",
      "source": [
        "import gradio as gr\n",
        "\n",
        "messages = [{\"role\":\"system\", \"content\":system}]\n",
        "\n",
        "def mychatbot(prompt):\n",
        "    messages.append({\"role\": \"user\", \"content\": prompt})\n",
        "    chat_completion = client.chat.completions.create(\n",
        "        messages = messages,\n",
        "        model = model,\n",
        "        max_tokens = 1024,\n",
        "        temperature = 0.2,\n",
        "        top_p = 0.95,\n",
        "        )\n",
        "    reply = chat_completion.choices[0].message.content\n",
        "    return reply\n",
        "\n",
        "iface = gr.Interface(\n",
        "    mychatbot,\n",
        "    inputs = \"text\",\n",
        "    outputs = \"text\",\n",
        "    title = title,\n",
        "    description = descriptions)\n",
        "\n",
        "iface.launch(share = True, debug = True)"
      ],
      "metadata": {
        "colab": {
          "base_uri": "https://localhost:8080/",
          "height": 628
        },
        "id": "LdxQr4ZZKE1U",
        "outputId": "bdfe291b-7ccd-476c-9e53-ce2bffdaed7b"
      },
      "execution_count": null,
      "outputs": [
        {
          "output_type": "stream",
          "name": "stdout",
          "text": [
            "Colab notebook detected. This cell will run indefinitely so that you can see errors and logs. To turn off, set debug=False in launch().\n",
            "* Running on public URL: https://bcff4f63bf3f1b9912.gradio.live\n",
            "\n",
            "This share link expires in 1 week. For free permanent hosting and GPU upgrades, run `gradio deploy` from the terminal in the working directory to deploy to Hugging Face Spaces (https://huggingface.co/spaces)\n"
          ]
        },
        {
          "output_type": "display_data",
          "data": {
            "text/plain": [
              "<IPython.core.display.HTML object>"
            ],
            "text/html": [
              "<div><iframe src=\"https://bcff4f63bf3f1b9912.gradio.live\" width=\"100%\" height=\"500\" allow=\"autoplay; camera; microphone; clipboard-read; clipboard-write;\" frameborder=\"0\" allowfullscreen></iframe></div>"
            ]
          },
          "metadata": {}
        },
        {
          "output_type": "stream",
          "name": "stdout",
          "text": [
            "Keyboard interruption in main thread... closing server.\n",
            "Killing tunnel 127.0.0.1:7860 <> https://bcff4f63bf3f1b9912.gradio.live\n"
          ]
        },
        {
          "output_type": "execute_result",
          "data": {
            "text/plain": []
          },
          "metadata": {},
          "execution_count": 52
        }
      ]
    }
  ]
}