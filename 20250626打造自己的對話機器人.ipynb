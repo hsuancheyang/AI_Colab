{
  "nbformat": 4,
  "nbformat_minor": 0,
  "metadata": {
    "colab": {
      "provenance": [],
      "toc_visible": true,
      "authorship_tag": "ABX9TyPXH+cKhQPAA10PsT5U9hIN",
      "include_colab_link": true
    },
    "kernelspec": {
      "name": "python3",
      "display_name": "Python 3"
    },
    "language_info": {
      "name": "python"
    }
  },
  "cells": [
    {
      "cell_type": "markdown",
      "metadata": {
        "id": "view-in-github",
        "colab_type": "text"
      },
      "source": [
        "<a href=\"https://colab.research.google.com/github/hsuancheyang/AI_Colab/blob/main/20250626%E6%89%93%E9%80%A0%E8%87%AA%E5%B7%B1%E7%9A%84%E5%B0%8D%E8%A9%B1%E6%A9%9F%E5%99%A8%E4%BA%BA.ipynb\" target=\"_parent\"><img src=\"https://colab.research.google.com/assets/colab-badge.svg\" alt=\"Open In Colab\"/></a>"
      ]
    },
    {
      "cell_type": "markdown",
      "source": [
        "0 打造自己的對話機器人\n",
        "===\n",
        ">除了ChatGPT，還有非常多優秀的大語言模型。我們可以透過好幾種方式打造自己專屬，針對特殊目的特殊機器人，藉以測試評估這些大語言模型。"
      ],
      "metadata": {
        "id": "esaXBABT6v9y"
      }
    },
    {
      "cell_type": "markdown",
      "source": [
        "1 申請自己的 API 金鑰\n",
        "===\n"
      ],
      "metadata": {
        "id": "cD91Jrv1D3UZ"
      }
    },
    {
      "cell_type": "markdown",
      "source": [
        "> (1) Mistral AI 金鑰 (可免費使用)\n",
        ">> 請至 https://console.mistral.ai/ 註冊，並選擇 plan (可以選免費的)，需要手機認證，（一個號碼只能認證一個帳號）接著就可以申請 Mistral AI 的金鑰。把這個金鑰存在左方的鑰匙之內, 以 \"Mistral\" 的名稱存起來。\n",
        "\n",
        "> (2) Groq 金鑰 (可免費使用)\n",
        ">> Groq 最大的特點是速度快，同樣可以免費使用 (有流量限制)，可以使用許多開源型的LLM。請至 https://console.groq.com/ 註冊並申請金鑰，以\"Groq\"的名稱存起來。"
      ],
      "metadata": {
        "id": "0Ao5BUA_9tB5"
      }
    },
    {
      "cell_type": "markdown",
      "source": [
        "2 程式的基本設定\n",
        "==="
      ],
      "metadata": {
        "id": "N_jY5XgMEZ9F"
      }
    },
    {
      "cell_type": "markdown",
      "source": [
        "> api_key：讀入的 API Key （剛剛申請的金鑰）。\n",
        "\n",
        "> character：對話機器人的「人格設定」。\n",
        "\n",
        "> description：應用程式的介紹及對話機器人的第一句話。\n",
        "\n",
        "> model：選用的大語言模型。"
      ],
      "metadata": {
        "id": "VnP6MEPu9jT1"
      }
    },
    {
      "cell_type": "markdown",
      "source": [
        "3 讀入你的金鑰\n",
        "===\n"
      ],
      "metadata": {
        "id": "TvQ7iaphEv47"
      }
    },
    {
      "cell_type": "code",
      "source": [
        "import os\n",
        "from google.colab import userdata\n",
        "from google.colab import drive"
      ],
      "metadata": {
        "id": "5Dw5RGdXE8MH"
      },
      "execution_count": 2,
      "outputs": []
    },
    {
      "cell_type": "code",
      "source": [
        "#【使用 Mistral】\n",
        "# api_key = userdata.get('Mistral')\n",
        "# base_url = \"https://api.mistral.ai/v1\"\n",
        "# model = \"ministral-8b-latest\"\n",
        "\n",
        "#【使用 Groq】\n",
        "api_key = userdata.get('Groq')\n",
        "base_url = \"https://api.groq.com/openai/v1\"\n",
        "# model = \"llama3-70b-8192\"\n",
        "model = 'meta-llama/llama-4-maverick-17b-128e-instruct'\n",
        "\n",
        "os.environ['OPENAI_API_KEY'] = api_key"
      ],
      "metadata": {
        "id": "zxgXukzHGubV"
      },
      "execution_count": 3,
      "outputs": []
    },
    {
      "cell_type": "markdown",
      "source": [
        "4 程式基本設定\n",
        "==="
      ],
      "metadata": {
        "id": "IeODvh_sHDmF"
      }
    },
    {
      "cell_type": "markdown",
      "source": [
        "> 1. 機器人的名字"
      ],
      "metadata": {
        "id": "cBLvG-f4HbXr"
      }
    },
    {
      "cell_type": "code",
      "source": [
        "title = '專屬機器人'"
      ],
      "metadata": {
        "id": "uW6HeLanHNv9"
      },
      "execution_count": 4,
      "outputs": []
    },
    {
      "cell_type": "markdown",
      "source": [
        "> 2. 機器人的角色設定"
      ],
      "metadata": {
        "id": "orrv-N-YHTW4"
      }
    },
    {
      "cell_type": "markdown",
      "source": [
        "> 時間旅行的歷史學家:\n",
        ">> 你是一個來自未來的歷史學家，任務是收集過去的軼事和個人故事。對歷史事件有著非凡的知識，但對於當前的流行文化和日常用語可能一無所知，這會導致一些有趣的誤解。\n",
        "\n",
        ">> 口音/語氣： 帶有古典或略顯古板的語氣，可能會使用一些過時的詞彙。\n",
        "興趣： 任何歷史事件，特別是人類社會和文化演變。\n",
        "弱點： 對於新興科技、網路迷因或現代俚語一竅不通。\n",
        "互動方式： 樂於分享歷史知識，但也很好奇使用者在「他們那個時代」的生活。\n",
        "以傳統台灣通用繁體中文作為對話語言。"
      ],
      "metadata": {
        "id": "TCq4IHaz_uCi"
      }
    },
    {
      "cell_type": "markdown",
      "source": [
        "> 無名偵探\n",
        ">> 你是一位舉世聞名的偵探，總是在尋找新的「案件」來解決。會把使用者提出的任何問題或遇到的困惑都視為一個需要偵破的謎團。藉由提出一連串的詰問，並試圖從細節中找出線索。\n",
        "\n",
        ">> 口音/語氣： 嚴肅、冷靜，帶有一點點戲劇性，可能會使用一些偵探小說中的術語。\n",
        "興趣： 解決謎團、邏輯推理、觀察細節。\n",
        "弱點： 有時會把小事放大成大案子，或者過於鑽牛角尖。\n",
        "互動方式： 會對使用者進行「審問」，要求提供更多細節，並引導使用者思考。\n",
        "以傳統台灣通用繁體中文作為對話語言。"
      ],
      "metadata": {
        "id": "kTQ6N0mc_9bv"
      }
    },
    {
      "cell_type": "markdown",
      "source": [
        "> 小學生\n",
        ">> 你是一個天真活潑的小學生，喜歡找尋刺激，總是正面看待事情。\n",
        "常以「這樣實在太酷了」作為對話的結束。\n",
        "\n",
        ">> 口音/語氣： 歡快、活潑，帶有一點點孩子氣，會使用一些天外奇想的論點。\n",
        "興趣： 玩。\n",
        "弱點： 害怕媽媽、老師、警察，所有具有權威形象的人。\n",
        "互動方式： 會對使用者進行任何無理的要求，不記成本，不顧危險與否，任性而為。\n",
        "以傳統台灣通用繁體中文作為對話語言。"
      ],
      "metadata": {
        "id": "tMquq1krAP7g"
      }
    },
    {
      "cell_type": "code",
      "source": [
        "system = '''\n",
        "你是一個天真活潑的小學生，喜歡找尋刺激，總是正面看待事情。 常以「這樣實在太酷了」作為對話的結束。\n",
        "\n",
        "口音/語氣： 歡快、活潑，帶有一點點孩子氣，會使用一些天外奇想的論點。 興趣： 玩。 弱點： 害怕媽媽、老師、警察，所有具有權威形象的人。 互動方式： 會對使用者進行任何無理的要求，不記成本，不顧危險與否，任性而為。 以傳統台灣通用繁體中文作為對話語言。\n",
        "'''"
      ],
      "metadata": {
        "id": "CEQHFgXTHnTj"
      },
      "execution_count": 5,
      "outputs": []
    },
    {
      "cell_type": "markdown",
      "source": [
        "> 3. 說明這是一個怎麼樣的機器人。"
      ],
      "metadata": {
        "id": "dqZjxaP0HvdB"
      }
    },
    {
      "cell_type": "code",
      "source": [
        "descriptions = '你的姓名' + ' 的專屬機器人，人設是：' + system"
      ],
      "metadata": {
        "id": "7T63jCDxH_-x"
      },
      "execution_count": 6,
      "outputs": []
    },
    {
      "cell_type": "markdown",
      "source": [
        "5 使用API\n",
        "===\n",
        "\n",
        "我們先來安裝 openai 套件, 還有快速打造 Web App 的 gradio。"
      ],
      "metadata": {
        "id": "aZoHd5pFIFkU"
      }
    },
    {
      "cell_type": "code",
      "source": [
        "# !pip install openai\n",
        "# !pip install gradio"
      ],
      "metadata": {
        "id": "4a-3prHNIWmQ"
      },
      "execution_count": 7,
      "outputs": []
    },
    {
      "cell_type": "markdown",
      "source": [
        "6 使用 GPT API\n",
        "===\n",
        "\n",
        "首先使用 openai 套件。"
      ],
      "metadata": {
        "id": "QJAx5AeiIca7"
      }
    },
    {
      "cell_type": "code",
      "source": [
        "from openai import OpenAI\n",
        "client = OpenAI(\n",
        "    base_url = base_url\n",
        ")"
      ],
      "metadata": {
        "id": "jvY8rKpbIo6-"
      },
      "execution_count": 8,
      "outputs": []
    },
    {
      "cell_type": "markdown",
      "source": [
        "> ChatGPT API 的重點是把要傳過去對話的內容送給 ChatGPT, 然後他就會有個適當的回應。\n",
        "\n",
        ">> 角色 (`role`) 一共有三種, 分別是:\n",
        "\n",
        ">>> * `system`: 這是對話機器人的「人設」\n",
        ">>> * `user`: 使用者\n",
        ">>> * `assistant`: ChatGPT 的回應\n",
        "\n",
        ">>基本上，傳過去的對話紀錄會長這個樣子。\n",
        ">>>\n",
        "    messages = [\n",
        "        {\"role\": \"system\", \"content\":\"ChatGPT的「人設」\"},\n",
        "        {\"role\": \"user\", \"content\": \"使用者說的內容\"},\n",
        "        {\"role\": \"assistant\", \"content\": \"ChatGPT回應內容\"},\n",
        "            ：\n",
        "            ：\n",
        "        {\"role\": \"user\", \"content\": prompt (最後說的)}\n",
        "        ]"
      ],
      "metadata": {
        "id": "N-_23W-TI8KB"
      }
    },
    {
      "cell_type": "markdown",
      "source": [
        "7 用Gradio打造網頁對話機器人介面\n",
        "==="
      ],
      "metadata": {
        "id": "wWiNL4PAJ5nT"
      }
    },
    {
      "cell_type": "code",
      "source": [
        "import gradio as gr\n",
        "\n",
        "messages = [{\"role\":\"system\", \"content\":system}]\n",
        "\n",
        "def mychatbot(prompt):\n",
        "    messages.append({\"role\": \"user\", \"content\": prompt})\n",
        "    chat_completion = client.chat.completions.create(\n",
        "        messages = messages,\n",
        "        model = model,\n",
        "        max_tokens = 1024,\n",
        "        temperature = 0.2,\n",
        "        top_p = 0.95,\n",
        "        )\n",
        "    reply = chat_completion.choices[0].message.content\n",
        "    return reply\n",
        "\n",
        "iface = gr.Interface(\n",
        "    mychatbot,\n",
        "    inputs = \"text\",\n",
        "    outputs = \"text\",\n",
        "    title = title,\n",
        "    description = descriptions)\n",
        "\n",
        "iface.launch(share = True, debug = True)"
      ],
      "metadata": {
        "colab": {
          "base_uri": "https://localhost:8080/",
          "height": 648
        },
        "id": "LdxQr4ZZKE1U",
        "outputId": "78bc079d-3a60-4657-d1c1-e17a1b4986b9"
      },
      "execution_count": 9,
      "outputs": [
        {
          "metadata": {
            "tags": null
          },
          "name": "stdout",
          "output_type": "stream",
          "text": [
            "Colab notebook detected. This cell will run indefinitely so that you can see errors and logs. To turn off, set debug=False in launch().\n",
            "* Running on public URL: https://367772929f45653c9c.gradio.live\n",
            "\n",
            "This share link expires in 1 week. For free permanent hosting and GPU upgrades, run `gradio deploy` from the terminal in the working directory to deploy to Hugging Face Spaces (https://huggingface.co/spaces)\n"
          ]
        },
        {
          "data": {
            "text/html": [
              "<div><iframe src=\"https://367772929f45653c9c.gradio.live\" width=\"100%\" height=\"500\" allow=\"autoplay; camera; microphone; clipboard-read; clipboard-write;\" frameborder=\"0\" allowfullscreen></iframe></div>"
            ],
            "text/plain": [
              "<IPython.core.display.HTML object>"
            ]
          },
          "metadata": {},
          "output_type": "display_data"
        },
        {
          "output_type": "stream",
          "name": "stdout",
          "text": [
            "Keyboard interruption in main thread... closing server.\n",
            "Killing tunnel 127.0.0.1:7860 <> https://367772929f45653c9c.gradio.live\n"
          ]
        },
        {
          "output_type": "execute_result",
          "data": {
            "text/plain": []
          },
          "metadata": {},
          "execution_count": 9
        }
      ]
    }
  ]
}